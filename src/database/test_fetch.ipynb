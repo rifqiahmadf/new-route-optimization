{
 "cells": [
  {
   "cell_type": "code",
   "execution_count": 17,
   "metadata": {},
   "outputs": [],
   "source": [
    "import sql_connection\n",
    "from database_connection import DatabaseConnection"
   ]
  },
  {
   "cell_type": "code",
   "execution_count": 18,
   "metadata": {},
   "outputs": [
    {
     "data": {
      "text/plain": [
       "0"
      ]
     },
     "execution_count": 18,
     "metadata": {},
     "output_type": "execute_result"
    }
   ],
   "source": [
    "db = DatabaseConnection()\n",
    "x = db.fetch_hotel_node(101)\n",
    "x.cost"
   ]
  },
  {
   "cell_type": "code",
   "execution_count": 19,
   "metadata": {},
   "outputs": [
    {
     "data": {
      "text/plain": [
       "[Pasar Ngasem (00:00 - 00:00),\n",
       " Museum Sandi (00:00 - 00:00),\n",
       " Tugu (00:00 - 00:00)]"
      ]
     },
     "execution_count": 19,
     "metadata": {},
     "output_type": "execute_result"
    }
   ],
   "source": [
    "x = db.fetch_tour_nodes([11, 12, 13])\n",
    "x"
   ]
  },
  {
   "cell_type": "code",
   "execution_count": 20,
   "metadata": {},
   "outputs": [
    {
     "name": "stdout",
     "output_type": "stream",
     "text": [
      "9:00:00 16:30:00\n"
     ]
    }
   ],
   "source": [
    "a, b = db.fetch_schedule(99)\n",
    "print(a, b)"
   ]
  },
  {
   "cell_type": "code",
   "execution_count": 21,
   "metadata": {},
   "outputs": [
    {
     "data": {
      "text/plain": [
       "{11: {11: 0, 12: 754, 13: 854, 101: 918},\n",
       " 12: {11: 790, 12: 0, 13: 100, 101: 175},\n",
       " 13: {11: 686, 12: 256, 13: 0, 101: 83},\n",
       " 101: {11: 797, 12: 282, 13: 109}}"
      ]
     },
     "execution_count": 21,
     "metadata": {},
     "output_type": "execute_result"
    }
   ],
   "source": [
    "x = db.fetch_time_matrix(101, [11, 12, 13])\n",
    "x"
   ]
  },
  {
   "cell_type": "code",
   "execution_count": 22,
   "metadata": {},
   "outputs": [
    {
     "name": "stdout",
     "output_type": "stream",
     "text": [
      "     post_id post_type is_operate\n",
      "0          1  location       buka\n",
      "1          2  location       buka\n",
      "2          3  location       buka\n",
      "3          4  location       buka\n",
      "4          5  location       buka\n",
      "..       ...       ...        ...\n",
      "182      183     hotel       buka\n",
      "183      184     hotel       buka\n",
      "184      185     hotel       buka\n",
      "185      186     hotel       buka\n",
      "186      187     hotel       buka\n",
      "\n",
      "[187 rows x 3 columns]\n"
     ]
    },
    {
     "name": "stderr",
     "output_type": "stream",
     "text": [
      "d:\\new-route-optimization\\database\\sql_connection.py:31: UserWarning: pandas only supports SQLAlchemy connectable (engine/connection) or database string URI or sqlite3 DBAPI2 connection. Other DBAPI2 objects are not tested. Please consider using SQLAlchemy.\n",
      "  return pd.read_sql(query, connection)\n"
     ]
    }
   ],
   "source": [
    "query = \"\"\"SELECT \n",
    "                p.post_id,\n",
    "                p.post_type,\n",
    "                CASE\n",
    "                    WHEN pj.pj_jam_buka = pj.pj_jam_tutup THEN \"tutup\"\n",
    "                    ELSE \"buka\"\n",
    "                END AS is_operate\n",
    "            FROM \n",
    "                posts p\n",
    "            LEFT JOIN\n",
    "                posts_jadwal pj\n",
    "                ON p.post_id = pj.pj_id_tempat AND pj.pj_hari = \"minggu\"\n",
    "            \"\"\"\n",
    "\n",
    "# Create a database connection\n",
    "connection = sql_connection.get_db_connection()\n",
    "\n",
    "# Read data from SQL using the provided query and connection\n",
    "df_location = sql_connection.read_from_sql(query, connection)\n",
    "\n",
    "# Close the database connection\n",
    "connection.close()\n",
    "\n",
    "print(df_location)\n",
    "\n"
   ]
  }
 ],
 "metadata": {
  "kernelspec": {
   "display_name": "base",
   "language": "python",
   "name": "python3"
  },
  "language_info": {
   "codemirror_mode": {
    "name": "ipython",
    "version": 3
   },
   "file_extension": ".py",
   "mimetype": "text/x-python",
   "name": "python",
   "nbconvert_exporter": "python",
   "pygments_lexer": "ipython3",
   "version": "3.11.7"
  }
 },
 "nbformat": 4,
 "nbformat_minor": 2
}
